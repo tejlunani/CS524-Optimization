{
 "cells": [
  {
   "cell_type": "markdown",
   "metadata": {},
   "source": [
    "# 1. Doodle Scheduling"
   ]
  },
  {
   "cell_type": "code",
   "execution_count": 5,
   "metadata": {},
   "outputs": [
    {
     "name": "stdout",
     "output_type": "stream",
     "text": [
      "Optimal\n",
      "10:00: Matt\n",
      "10:20: Daniel\n",
      "10:40: Tom\n",
      "11:00: Manuel\n",
      "11:20: Anne\n",
      "11:40: Joel\n",
      "lunch: Malte\n",
      "lunch: Spyros\n",
      "lunch: Josep\n",
      "1:00: Florian\n",
      "1:20: Chris\n",
      "1:40: Luca\n",
      "2:00: Jule\n",
      "2:20: Michael\n",
      "2:40: Mirjam\n"
     ]
    }
   ],
   "source": [
    "using JuMP, NamedArrays, Clp\n",
    "\n",
    "availability =\n",
    "  [ 0 0 1 1 0 0 0 1 1 0 0 0 0\n",
    "    0 1 1 0 0 0 0 0 1 1 0 0 0\n",
    "    0 0 0 1 1 0 1 1 0 1 1 1 1\n",
    "    0 0 0 1 1 1 1 1 1 1 1 1 0\n",
    "    0 0 0 0 0 0 1 1 1 0 0 0 0\n",
    "    0 1 1 0 0 0 0 0 1 1 0 0 0\n",
    "    0 0 0 1 1 1 1 0 0 0 0 0 0\n",
    "    1 1 0 0 0 0 0 0 0 0 1 1 1\n",
    "    1 1 1 0 0 0 0 0 0 1 1 0 0\n",
    "    0 0 0 0 0 0 0 1 1 0 0 0 0\n",
    "    0 0 0 0 0 0 1 1 1 0 0 0 0\n",
    "    1 1 0 0 0 1 1 1 1 0 0 1 1\n",
    "    1 1 1 0 1 1 0 0 0 0 0 1 1\n",
    "    0 1 1 1 0 0 0 0 0 0 0 0 0\n",
    "    1 1 0 0 1 1 0 0 0 0 0 0 0 ]\n",
    "\n",
    "TIMES = [\"10:00\",\"10:20\",\"10:40\",\"11:00\",\"11:20\",\"11:40\",\"lunch\",\"1:00\",\"1:20\",\"1:40\",\"2:00\",\"2:20\",\"2:40\"]\n",
    "NAMES = [:Manuel,:Luca,:Jule,:Michael,:Malte,:Chris,:Spyros,:Mirjam,:Matt,:Florian,:Josep,:Joel,:Tom,:Daniel,:Anne ]\n",
    "times = NamedArray( availability, (NAMES,TIMES), (\"NAME\",\"TIME\"))\n",
    "\n",
    "nolunch = [1:6;8:13]\n",
    "m = Model(solver = ClpSolver())\n",
    "@variable(m, x[NAMES, TIMES] >= 0)\n",
    "@constraint(m, a[j in TIMES[nolunch]], sum(x[i,j] * times[i,j] for i in NAMES) == 1 )\n",
    "@constraint(m, sum(x[i,\"lunch\"] * times[i, \"lunch\"] for i in NAMES) == 3)\n",
    "@constraint(m, b[i in NAMES], sum(x[i,j] * times[i,j] for j in TIMES) == 1)\n",
    "println(solve(m))\n",
    "\n",
    "for j in TIMES\n",
    "    for i in NAMES\n",
    "        if (getvalue(x[i,j]) > 0.0)\n",
    "            println(j, \": \",i)\n",
    "        end\n",
    "    end\n",
    "end\n",
    "    "
   ]
  },
  {
   "cell_type": "markdown",
   "metadata": {},
   "source": [
    "# 2. Car Rental"
   ]
  },
  {
   "cell_type": "code",
   "execution_count": 119,
   "metadata": {},
   "outputs": [
    {
     "ename": "LoadError",
     "evalue": "\u001b[91mUndefVarError: dist not defined\u001b[39m",
     "output_type": "error",
     "traceback": [
      "\u001b[91mUndefVarError: dist not defined\u001b[39m",
      "",
      "Stacktrace:",
      " [1] \u001b[1minclude_string\u001b[22m\u001b[22m\u001b[1m(\u001b[22m\u001b[22m::String, ::String\u001b[1m)\u001b[22m\u001b[22m at \u001b[1m./loading.jl:522\u001b[22m\u001b[22m"
     ]
    }
   ],
   "source": [
    "using JuMP, Clp, Distances\n",
    "agencies = [:a1, :a2, :a3, :a4, :a5, :a6, :a7, :a8, :a9, :a10]\n",
    "demand = Dict( zip( agencies, [10, 6, 8, 11, 9, 7, 15, 7, 9, 12]))\n",
    "supply = Dict( zip( agencies, [8, 13, 4, 8, 12, 2, 14, 11, 15, 7]))\n",
    "coords = Dict( zip( agencies, [[0 0], [20 20], [18 10], [30 12], [35 0], [33 25], [5 27], [5 10], [11 0], [2 15]]))\n",
    "\n",
    "m = Model(solver=ClpSolver())\n",
    "\n",
    "@variable(m, x[agencies,agencies] >= 0)          # x[i,j] is cars shipped from agency i to agency j.\n",
    "\n",
    "@constraint(m, sup[i in agencies], sum(x[i,j] for j in agencies) == supply[i] )   # supply constraint\n",
    "@constraint(m, dem[j in agencies], sum(x[i,j] for i in agencies) == demand[j] )   # demand constraint"
   ]
  },
  {
   "cell_type": "markdown",
   "metadata": {},
   "source": [
    "# 3. Building a Stadium"
   ]
  },
  {
   "cell_type": "code",
   "execution_count": 37,
   "metadata": {},
   "outputs": [],
   "source": [
    "using JuMP\n",
    "\n",
    "tasks = 1:18\n",
    "durations = [2 16 9 8 10 6 2 2 9 5 3 2 1 7 4 3 9 1]\n",
    "predecessors = ( [], [1], [2], [2], [3], [4,5], [4], [6], [4,6], [4], [6], [9], [7], [2], [4,14], [8,11,14], [12], [17] )\n",
    "pred_dict = Dict(zip(tasks,predecessors));   # dictionary mapping tasks --> predecessors.\n",
    "\n",
    "# additional columns of data (maximum reduction possible )\n",
    "max_reduction =  [0,  3,  1,  2,  2,  1, 1, 0,  2,  1,  1, 0, 0,  2,  2, 1,  3, 0]  # max reduction (in weeks)\n",
    "cost_reduction = [0, 30, 26, 12, 17, 15, 8, 0, 42, 21, 18, 0, 0, 22, 12, 6, 16, 0]  # cost of reduction ($1,000/week)\n",
    "m_dict = Dict(zip(tasks,max_reduction));\n",
    "c_dict = Dict(zip(tasks,cost_reduction));\n",
    "bonus_amount = 30     # bonus for expediting the project ($1,000/week )\n",
    ";"
   ]
  },
  {
   "cell_type": "markdown",
   "metadata": {},
   "source": [
    "#### Part A"
   ]
  },
  {
   "cell_type": "code",
   "execution_count": 7,
   "metadata": {},
   "outputs": [
    {
     "name": "stdout",
     "output_type": "stream",
     "text": [
      "minimum amount of time required to complete the project: 64.0 weeks\n"
     ]
    }
   ],
   "source": [
    "using JuMP,Clp\n",
    "m = Model(solver=ClpSolver())\n",
    "\n",
    "@variable(m, tstart[tasks])\n",
    "\n",
    "# one-line implementation of the constraints:\n",
    "@constraint(m, link[i in tasks, j in predecessors[i]], tstart[i] >= tstart[j] + durations[j])\n",
    "\n",
    "@constraint(m, tstart[1] == 0)\n",
    "@objective(m, Min, tstart[18] + durations[18])     # total duration is start time of last task + duration of last task.\n",
    "\n",
    "solve(m)\n",
    "println(\"minimum amount of time required to complete the project: \", getobjectivevalue(m), \" weeks\")"
   ]
  },
  {
   "cell_type": "markdown",
   "metadata": {},
   "source": [
    "#### Part B"
   ]
  },
  {
   "cell_type": "code",
   "execution_count": 43,
   "metadata": {},
   "outputs": [
    {
     "data": {
      "text/plain": [
       ":Optimal"
      ]
     },
     "execution_count": 43,
     "metadata": {},
     "output_type": "execute_result"
    }
   ],
   "source": [
    "using JuMP,Clp\n",
    "n = Model(solver=ClpSolver())\n",
    "\n",
    "@variable(n, reducs[tasks]) #number of weeks reduced\n",
    "@variable(n, tstart[tasks])\n",
    "\n",
    "@constraint(n, link[i in tasks, j in predecessors[i]], tstart[i] >= tstart[j] + (durations[j] - reducs[j]))\n",
    "@constraint(n, z[i in tasks], max_reduction[i] >= reducs[i])\n",
    "@constraint(n, tstart[1] == 0)\n",
    "\n",
    "@objective(n, Max, sum(reducs[i] * (bonus_amount - cost_reduction[i]) for i in tasks))\n",
    "solve(m)\n",
    "\n"
   ]
  },
  {
   "cell_type": "markdown",
   "metadata": {},
   "source": [
    "# 4. Museum Site Planning"
   ]
  },
  {
   "cell_type": "code",
   "execution_count": 8,
   "metadata": {},
   "outputs": [
    {
     "name": "stdout",
     "output_type": "stream",
     "text": [
      "Optimal\n",
      "The coordinates of the museum center should be located at: [244.029, 244.029] (in feet)\n",
      "The largest possible radius is: 194.0285267938019 feet\n"
     ]
    }
   ],
   "source": [
    "A = [3 -1; 2 3; 0 1; 0 -1; -1 0];\n",
    "b = [1500; 2100; 500; 0; 0]\n",
    "\n",
    "using JuMP, Clp\n",
    "\n",
    "m = Model(solver=ClpSolver())\n",
    "@variable(m, r >= 0)           # radius\n",
    "@variable(m, x[1:2])           # coordinates of center\n",
    "for i = 1:size(A,1)\n",
    "    @constraint(m, A[i,:]'*x + r*norm(A[i,:]) <= b[i])\n",
    "end\n",
    "@objective(m, Max, r)     # maximize radius\n",
    "\n",
    "status = solve(m)\n",
    "center = getvalue(x)\n",
    "radius = getvalue(r - 50)\n",
    "\n",
    "println(status)\n",
    "println(\"The coordinates of the museum center should be located at: \", center, \" (in feet)\")\n",
    "println(\"The largest possible radius is: \", radius, \" feet\")"
   ]
  },
  {
   "cell_type": "code",
   "execution_count": 9,
   "metadata": {},
   "outputs": [
    {
     "data": {
      "image/png": "[encoded data removed]",
      "text/plain": [
       "PyPlot.Figure(PyObject <matplotlib.figure.Figure object at 0x126338b50>)"
      ]
     },
     "metadata": {},
     "output_type": "display_data"
    }
   ],
   "source": [
    "using PyPlot\n",
    "import PyPlot.plt\n",
    "\n",
    "using PyCall\n",
    "@pyimport matplotlib.patches as patches\n",
    "fig, ax = subplots()\n",
    "xlim(-25, 625)\n",
    "ylim(-25, 525)\n",
    "poly = patches.Polygon([0 0; 0 500; 300 500; 600 300; 500 0], closed=true, fill=false, ec=\"b\")\n",
    "ax[:add_artist](poly)\n",
    "\n",
    "circle = patches.Circle(center, radius, fill=false)\n",
    "ax[:add_artist](circle)\n",
    "\n",
    "show()\n"
   ]
  },
  {
   "cell_type": "code",
   "execution_count": null,
   "metadata": {},
   "outputs": [],
   "source": []
  }
 ],
 "metadata": {
  "kernelspec": {
   "display_name": "Julia 0.6.2",
   "language": "julia",
   "name": "julia-0.6"
  },
  "language_info": {
   "file_extension": ".jl",
   "mimetype": "application/julia",
   "name": "julia",
   "version": "0.6.2"
  }
 },
 "nbformat": 4,
 "nbformat_minor": 2
}
