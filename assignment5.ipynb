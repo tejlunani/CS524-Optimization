{
 "cells": [
  {
   "cell_type": "markdown",
   "metadata": {},
   "source": [
    "# Thrift Store"
   ]
  },
  {
   "cell_type": "code",
   "execution_count": 1,
   "metadata": {},
   "outputs": [
    {
     "name": "stdout",
     "output_type": "stream",
     "text": [
      "pennies: 4.0\n",
      "nickels: 0.0\n",
      "dimes: 7.000000000000001\n",
      "quarters: 1.0\n"
     ]
    }
   ],
   "source": [
    "using JuMP, Cbc\n",
    "\n",
    "m = Model(solver=CbcSolver())\n",
    "@variable(m, z[1:4] >= 0, Int)\n",
    "@constraint(m, z[1] + 5z[2] + 10z[3] + 25z[4] == 99)\n",
    "@objective(m, Min, 2.500z[1] + 5.000z[2] + 2.268z[3] + 5.670z[4])\n",
    "\n",
    "status = solve(m)\n",
    "println(\"pennies: \", getvalue(z[1]))\n",
    "println(\"nickels: \", getvalue(z[2]))\n",
    "println(\"dimes: \", getvalue(z[3]))\n",
    "println(\"quarters: \", getvalue(z[4]))"
   ]
  },
  {
   "cell_type": "markdown",
   "metadata": {},
   "source": [
    "# Checked Luggage"
   ]
  },
  {
   "cell_type": "code",
   "execution_count": 2,
   "metadata": {},
   "outputs": [
    {
     "name": "stdout",
     "output_type": "stream",
     "text": [
      "Bring the following: \n",
      "Souvenir 1\n",
      "Souvenir 4\n",
      "Souvenir 5\n",
      "Souvenir 6\n",
      "Souvenir 8\n",
      "Souvenir 10\n"
     ]
    }
   ],
   "source": [
    "using JuMP, Cbc\n",
    "\n",
    "w = [5, 6, 7, 6, 4, 6, 7, 3, 8, 5]\n",
    "v = [2, 4, 5, 3, 3, 2, 3, 1, 2, 4]\n",
    "\n",
    "m = Model(solver=CbcSolver())\n",
    "@variable(m, z[1:10] >= 0, Bin)\n",
    "@constraint(m, sum(z[i]*w[i] for i in 1:10) <= 30)\n",
    "@constraint(m, sum(z[i]*v[i] for i in 1:10) <= 15)\n",
    "@objective(m, Max, sum(z[i] for i in 1:10))\n",
    "\n",
    "status = solve(m)\n",
    "println(\"Bring the following: \")\n",
    "for i in 1:10\n",
    "    if (getvalue(z[i]) > 0)\n",
    "        println(\"Souvenir \", i)\n",
    "    end\n",
    "end"
   ]
  },
  {
   "cell_type": "markdown",
   "metadata": {},
   "source": [
    "# Comquat Computers"
   ]
  },
  {
   "cell_type": "code",
   "execution_count": 3,
   "metadata": {},
   "outputs": [
    {
     "name": "stdout",
     "output_type": "stream",
     "text": [
      "Optimal production plan for Comquat:\n",
      "Plant 1: 10000.0\n",
      "Plant 2: 7999.999999999999\n",
      "Plant 3: 0.0\n",
      "Plant 4: 1999.9999999999998\n"
     ]
    }
   ],
   "source": [
    "using JuMP, Cbc\n",
    "\n",
    "cap = [10000, 8000, 9000, 6000]\n",
    "fcost = [9000000, 5000000, 3000000, 1000000]\n",
    "ucost = [1000, 1700, 2300, 2900]\n",
    "\n",
    "m = Model(solver=CbcSolver())\n",
    "\n",
    "@variable(m, z[1:4], Bin) #whether the plant is used or not\n",
    "@variable(m, x[1:4] >= 0, Int) #number of shits produced\n",
    "\n",
    "@expression(m, prod, sum(x[i] for i in 1:4))\n",
    "@expression(m, unit, sum(x[i]*ucost[i] for i in 1:4))\n",
    "@expression(m, fixed, sum(z[i]*fcost[i] for i in 1:4))\n",
    "@expression(m, profit, 3500prod - unit - fixed)\n",
    "\n",
    "@constraint(m, capacity[i in 1:4], x[i] <= cap[i])\n",
    "@constraint(m, prod <= 20000)\n",
    "@constraint(m, x .<= 11000*z)\n",
    "\n",
    "@objective(m, Max, profit)\n",
    "\n",
    "status = solve(m)\n",
    "\n",
    "println(\"Optimal production plan for Comquat:\")\n",
    "for i in 1:4\n",
    "    println(\"Plant \", i, \": \", getvalue(x[i]))\n",
    "end"
   ]
  },
  {
   "cell_type": "markdown",
   "metadata": {},
   "source": [
    "# ABC Investments"
   ]
  },
  {
   "cell_type": "code",
   "execution_count": 4,
   "metadata": {},
   "outputs": [
    {
     "name": "stdout",
     "output_type": "stream",
     "text": [
      "Invest as follows: \n",
      "Option 1: $2.9999999999999996 million\n",
      "Option 2: $2.0 million\n",
      "Option 3: $34.99999999999999 million\n",
      "Option 4: $5.0 million\n",
      "Option 5: $21.000000000000004 million\n",
      "Option 6: $14.000000000000005 million\n"
     ]
    }
   ],
   "source": [
    "using JuMP, Cbc\n",
    "\n",
    "min = [3, 2, 9, 5, 12, 4]\n",
    "max = [27, 12, 35, 15, 46, 18]\n",
    "ret = [0.13, 0.09, 0.17, 0.10, 0.22, 0.12]\n",
    "\n",
    "m = Model(solver=CbcSolver())\n",
    "\n",
    "@variable(m, z[1:6], Bin)\n",
    "@variable(m, x[1:6] >= 0)\n",
    "\n",
    "@constraint(m, x .<= 100*z)\n",
    "@constraint(m, minimum[i in 1:6], x[i] >= min[i])\n",
    "@constraint(m, maximum[i in 1:6], x[i] <= max[i])\n",
    "@constraint(m, sum(x[i] for i in 1:6) <= 80)\n",
    "@constraint(m, x[2] + x[4] + x[6] >= x[5])\n",
    "@constraint(m, z[6] >= z[3])\n",
    "\n",
    "@objective(m, Max, sum(x[i]*ret[i] for i in 1:6))\n",
    "\n",
    "status = solve(m)\n",
    "println(\"Invest as follows: \")\n",
    "for i in 1:6\n",
    "    if (getvalue(z[i]) > 0)\n",
    "        println(\"Option \", i, \": \\$\", getvalue(x[i]), \" million\")\n",
    "    end\n",
    "end"
   ]
  },
  {
   "cell_type": "code",
   "execution_count": null,
   "metadata": {},
   "outputs": [],
   "source": []
  }
 ],
 "metadata": {
  "kernelspec": {
   "display_name": "Julia 0.6.2",
   "language": "julia",
   "name": "julia-0.6"
  },
  "language_info": {
   "file_extension": ".jl",
   "mimetype": "application/julia",
   "name": "julia",
   "version": "0.6.2"
  }
 },
 "nbformat": 4,
 "nbformat_minor": 2
}
