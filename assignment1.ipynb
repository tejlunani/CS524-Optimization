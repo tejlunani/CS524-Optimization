{
 "cells": [
  {
   "cell_type": "markdown",
   "metadata": {},
   "source": [
    "# 1. Warm-Up"
   ]
  },
  {
   "cell_type": "code",
   "execution_count": 18,
   "metadata": {
    "scrolled": false
   },
   "outputs": [
    {
     "name": "stdout",
     "output_type": "stream",
     "text": [
      "Using Clp Solver: Optimal\n",
      "x1: 3.0\n",
      "x2: 0.0\n",
      "x3: 3.0\n",
      "max: 48.0\n",
      "  0.267222 seconds (36.00 k allocations: 2.411 MiB)\n",
      "\n",
      "Using ECOS Solver: Optimal\n",
      "x1: 2.999999998571697\n",
      "x2: 8.223270148055816e-9\n",
      "x3: 3.000000000197723\n",
      "max: 47.999999986810174\n",
      "  0.568201 seconds (489.00 k allocations: 27.909 MiB, 30.20% gc time)\n",
      "\n",
      "Using SCS Solver: Optimal\n",
      "x1: 2.9999856529908175\n",
      "x2: 4.149724927436506e-6\n",
      "x3: 3.0000130627112145\n",
      "max: 48.000067805052524\n",
      "  0.515443 seconds (396.00 k allocations: 23.766 MiB, 3.09% gc time)\n",
      "\n"
     ]
    }
   ],
   "source": [
    "using JuMP, Clp, ECOS, SCS\n",
    "\n",
    "m = Model()\n",
    "\n",
    "@variable(m, 0 <= x[1:3] <= 3)\n",
    "@constraint(m, x[2] + x[3] - 2x[1] <= 0)\n",
    "@objective(m, Max, 5x[1] - x[2] + 11x[3])\n",
    "\n",
    "setsolver(m, ClpSolver())\n",
    "status = solve(m)\n",
    "println(\"Using Clp Solver: \", status)\n",
    "println(\"x1: \", getvalue(x[1]))\n",
    "println(\"x2: \", getvalue(x[2]))\n",
    "println(\"x3: \", getvalue(x[3]))\n",
    "println(\"max: \", getobjectivevalue(m))\n",
    "@time for i = 1:1000\n",
    "    solve(m)\n",
    "end\n",
    "println()\n",
    "\n",
    "setsolver(m, ECOSSolver(verbose=false))\n",
    "status = solve(m)\n",
    "println(\"Using ECOS Solver: \", status)\n",
    "println(\"x1: \", getvalue(x[1]))\n",
    "println(\"x2: \", getvalue(x[2]))\n",
    "println(\"x3: \", getvalue(x[3]))\n",
    "println(\"max: \", getobjectivevalue(m))\n",
    "@time for i = 1:1000\n",
    "    solve(m)\n",
    "end\n",
    "println()\n",
    "\n",
    "setsolver(m, SCSSolver(verbose=false))\n",
    "status = solve(m)\n",
    "println(\"Using SCS Solver: \", status)\n",
    "println(\"x1: \", getvalue(x[1]))\n",
    "println(\"x2: \", getvalue(x[2]))\n",
    "println(\"x3: \", getvalue(x[3]))\n",
    "println(\"max: \", getobjectivevalue(m))\n",
    "@time for i = 1:1000\n",
    "    solve(m)\n",
    "end\n",
    "println()"
   ]
  },
  {
   "cell_type": "markdown",
   "metadata": {},
   "source": [
    "Comparing the three solvers above, the most accurate and fastest (over 1000 runs) is Clp. \n",
    "Clp is specialized for linear programs, as opposed to SCS (an SDP solver) and ECOS (a SOCP solver), so it is to be expected that it would be the quickest and produce the most accurate result."
   ]
  },
  {
   "cell_type": "markdown",
   "metadata": {},
   "source": [
    "# 2. Crop Planning"
   ]
  },
  {
   "cell_type": "markdown",
   "metadata": {},
   "source": [
    "### part a"
   ]
  },
  {
   "cell_type": "code",
   "execution_count": 42,
   "metadata": {},
   "outputs": [
    {
     "name": "stdout",
     "output_type": "stream",
     "text": [
      "Jane should plant 19.99999999999999 acres of wheat and 20.000000000000007 acres of corn\n",
      "to achieve a maximum profit of: $10000.0\n"
     ]
    }
   ],
   "source": [
    "using JuMP, Clp\n",
    "\n",
    "n = Model(solver = ClpSolver())\n",
    "\n",
    "@variable(n, w >= 0) #number of wheat acres\n",
    "@variable(n, c >= 0) #number of corn acres\n",
    "@constraint(n, w + c <= 45) #land limitation\n",
    "@constraint(n, 3w + 2c <= 100) #labor limitation\n",
    "@constraint(n, 2w + 4c <= 120) #fertilizer limitation\n",
    "@objective(n, Max, 200w + 300c) #profit\n",
    "\n",
    "status = solve(n)\n",
    "println(\"Jane should plant \", getvalue(w), \" acres of wheat and \", getvalue(c), \" acres of corn\")\n",
    "println(\"to achieve a maximum profit of: \\$\", getobjectivevalue(n))"
   ]
  },
  {
   "cell_type": "markdown",
   "metadata": {},
   "source": [
    "### part b"
   ]
  },
  {
   "cell_type": "code",
   "execution_count": 66,
   "metadata": {},
   "outputs": [
    {
     "name": "stdout",
     "output_type": "stream",
     "text": [
      "z: 1 dimensions:\n",
      "[wheat] = 19.99999999999999\n",
      "[ corn] = 20.000000000000007\n",
      "The maximum profit is: $10000.0\n"
     ]
    }
   ],
   "source": [
    "crops = [:wheat, :corn]\n",
    "\n",
    "labor   = Dict( :wheat => 3, :corn => 2)\n",
    "\n",
    "fert = Dict( :wheat => 2, :corn => 4)\n",
    "\n",
    "acres = Dict( :wheat => 1, :corn => 1)\n",
    "\n",
    "profit = Dict( :wheat => 200, :corn => 300)\n",
    "\n",
    "num_acres = 45\n",
    "num_labor = 100\n",
    "num_fert = 120\n",
    "\n",
    "using JuMP, Clp\n",
    "\n",
    "n = Model(solver = ClpSolver())\n",
    "\n",
    "@variable(n, z[crops] >= 0)\n",
    "\n",
    "@expression(n, tot_acres, sum(z[i] * acres[i] for i in crops) )\n",
    "@expression(n, tot_labor, sum(z[i] * labor[i]    for i in crops) )\n",
    "@expression(n, tot_fert,  sum(z[i] * fert[i]  for i in crops) )\n",
    "@expression(n, tot_profit,  sum(z[i] * profit[i]  for i in crops) )\n",
    "\n",
    "@constraint(n, tot_acres <= num_acres) \n",
    "@constraint(n, tot_labor <= num_labor) \n",
    "@constraint(n, tot_fert <= num_fert) \n",
    "\n",
    "@objective(n, Max, tot_profit) #profit\n",
    "\n",
    "solve(n)\n",
    "println(getvalue(z))\n",
    "println(\"The maximum profit is: \\$\", getvalue(tot_profit))"
   ]
  },
  {
   "cell_type": "markdown",
   "metadata": {},
   "source": [
    "The results from part (b) match that of part (a) exactly."
   ]
  },
  {
   "cell_type": "markdown",
   "metadata": {},
   "source": [
    "### part c"
   ]
  },
  {
   "cell_type": "code",
   "execution_count": 64,
   "metadata": {},
   "outputs": [
    {
     "data": {
      "image/png": "[encoded data removed]",
      "text/plain": [
       "PyPlot.Figure(PyObject <matplotlib.figure.Figure object at 0x126ff62d0>)"
      ]
     },
     "metadata": {},
     "output_type": "display_data"
    },
    {
     "data": {
      "text/plain": [
       "PyObject Text(0.5,1,u\"Jane's Farm\")"
      ]
     },
     "execution_count": 64,
     "metadata": {},
     "output_type": "execute_result"
    }
   ],
   "source": [
    "using PyPlot\n",
    "\n",
    "c = linspace(-50,50,1000)\n",
    "\n",
    "w1 = 45 - c\n",
    "w2 = (100/3) - (2/3)c\n",
    "w3 = 60 - 2c\n",
    "x2 = 50 - (3/2)c \n",
    "\n",
    "plot(c, w1, \"b\", linewidth = 2)\n",
    "plot(c, w2, \"b\", linewidth = 2)\n",
    "plot(c, w3, \"b\", linewidth = 2)\n",
    "plot(c, x2, \"r--\", linewidth = 1)\n",
    "\n",
    "xlim([0, 50])\n",
    "ylim([0, 50]) \n",
    "\n",
    "grid() \n",
    "xlabel(\"corn acres\") \n",
    "ylabel(\"wheat acres\")\n",
    "title(\"Jane's Farm\")\n"
   ]
  },
  {
   "cell_type": "markdown",
   "metadata": {},
   "source": [
    "In this graph, the area bounded by all the constraints (the feasibile set) is the area underneath all three blue lines.\n",
    "\n",
    "The contour line, represented by the red dotted line, intersects with this area most optimally at the point (20, 20).\n",
    "\n",
    "This means planting 20 acres of wheat and 20 acres of corn would result in the maximum amount of profit ($10000.0), the same result as we deduced in parts (a) and (b)."
   ]
  },
  {
   "cell_type": "code",
   "execution_count": null,
   "metadata": {},
   "outputs": [],
   "source": []
  }
 ],
 "metadata": {
  "kernelspec": {
   "display_name": "Julia 0.6.2",
   "language": "julia",
   "name": "julia-0.6"
  },
  "language_info": {
   "file_extension": ".jl",
   "mimetype": "application/julia",
   "name": "julia",
   "version": "0.6.2"
  }
 },
 "nbformat": 4,
 "nbformat_minor": 2
}
